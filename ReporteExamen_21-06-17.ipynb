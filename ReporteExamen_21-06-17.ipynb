{
 "cells": [
  {
   "cell_type": "markdown",
   "metadata": {},
   "source": [
    "# Reporte de Evaluación Raspberry\n",
    "## Joan Arturo Jácome Delgado\n",
    "\n",
    "### Evaluación: Multiprocesos con Raspberry\n",
    "\n",
    "La evaluación realizada el día 21 de junio de 2017 consistió en la ejecución de comandos para lograr el multiprocesamiento con tarjetas Raspberry. Cada una de estas conectada a un circuito de LED's que indicaban la ejecución de determinados procesos. \n",
    "\n",
    "Para mi evaluación, el ejercicio consistió en conectarme a la Raspberry con el nombre: \"_rpi-lania2_\" y encender los LED's del circuito conectado a la Raspberry \"_rpi-lania1_\".\n",
    "\n",
    "Los pasos realizados para realizar el ejercicio fueron los siguientes:\n",
    "\n",
    "* Se inició sesión con el software Putty en la Raspberry _rpi-lania2_ haciendo uso de ese nombre ya que la computadora se encontraba conectada a la red mediante cable ethernet. Una vez que se abrió la terminal, fue solicitado el usuario y la contraseña. Los cuales fueron:\n",
    "    - Usuario: **pi**\n",
    "    - Contraseña: **lania2**\n",
    "\n",
    "* Una vez que se accedió a la Raspberry indicada, se accedió a la dirección en la que se localizaban los archivos necesarios para el encedido del LED con el siguiente comando:\n",
    "    * **cd comades/python**\n",
    "\n",
    "\n",
    "* Una vez accedido al directorio anterior, se procedió a modificar el archivo _machinefile_ para ejecutar el programa _ledCustom.py_. Dicho archivo se modificó de la siguiente manera:\n",
    "    * **rpi-lania1.local**\n",
    "    * **rpi-lania2.local**\n",
    "        - Se modificó así ya que _rpi-lania1_ funcionaría como host y _rpi-lania2_ como esclavo.\n",
    "        \n",
    "        \n",
    "* Modificado el archivo, se realizó la ejecución del programa contenido en el archivo _ledCustom.py_. Dado que el archivo ya se encontraba localizado en la Raspberry objetivo, no fue necesario hacer la copia de este último. Para esto, se ejecutó el siguiente comando:\n",
    "    * **mpirun.openmpi -np 2 -machinefile machinefile python ledCustom.py**\n",
    "    \n",
    "    \n",
    "* Acto seguido, se encendieron en la Raspberry _rpi-lania1_ los LED's correspondientes al maestro y al esclavo correspondiente (Maestro: _rpi-lania1_, esclavo: _rpi-lania2_). \n"
   ]
  }
 ],
 "metadata": {
  "kernelspec": {
   "display_name": "Python 2",
   "language": "python",
   "name": "python2"
  },
  "language_info": {
   "codemirror_mode": {
    "name": "ipython",
    "version": 2
   },
   "file_extension": ".py",
   "mimetype": "text/x-python",
   "name": "python",
   "nbconvert_exporter": "python",
   "pygments_lexer": "ipython2",
   "version": "2.7.13"
  }
 },
 "nbformat": 4,
 "nbformat_minor": 2
}
