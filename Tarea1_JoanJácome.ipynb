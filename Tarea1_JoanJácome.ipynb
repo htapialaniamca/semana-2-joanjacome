{
 "cells": [
  {
   "cell_type": "code",
   "execution_count": 2,
   "metadata": {
    "collapsed": true
   },
   "outputs": [],
   "source": [
    "PrimeQ = lambda x: all(x % i != 0 for i in range(int(x**0.5)+1)[2:]) and x>1"
   ]
  },
  {
   "cell_type": "code",
   "execution_count": 3,
   "metadata": {
    "collapsed": false
   },
   "outputs": [
    {
     "data": {
      "text/plain": [
       "[False, False, True, True, False, True, False, True, False, False]"
      ]
     },
     "execution_count": 3,
     "metadata": {},
     "output_type": "execute_result"
    }
   ],
   "source": [
    "tt = [PrimeQ(2**n-1) for n in range(10)]\n",
    "tt"
   ]
  },
  {
   "cell_type": "code",
   "execution_count": 4,
   "metadata": {
    "collapsed": false
   },
   "outputs": [
    {
     "name": "stdout",
     "output_type": "stream",
     "text": [
      "2\n",
      "3\n",
      "5\n",
      "7\n"
     ]
    }
   ],
   "source": [
    "total = 10\n",
    "\n",
    "tt = [PrimeQ(2**n-1) for n in range(total)]\n",
    "for x in range(total):\n",
    "    if tt[x] == True:\n",
    "        print x"
   ]
  },
  {
   "cell_type": "code",
   "execution_count": 5,
   "metadata": {
    "collapsed": false
   },
   "outputs": [
    {
     "name": "stdout",
     "output_type": "stream",
     "text": [
      "2\n",
      "3\n",
      "5\n",
      "7\n",
      "13\n",
      "17\n",
      "19\n"
     ]
    }
   ],
   "source": [
    "total = 20\n",
    "\n",
    "tt = [PrimeQ(2**n-1) for n in range(total)]\n",
    "for x in range(total):\n",
    "    if tt[x] == True:\n",
    "        print x"
   ]
  },
  {
   "cell_type": "code",
   "execution_count": 6,
   "metadata": {
    "collapsed": false
   },
   "outputs": [
    {
     "name": "stdout",
     "output_type": "stream",
     "text": [
      "2\n",
      "3\n",
      "5\n",
      "7\n",
      "13\n",
      "17\n",
      "19\n"
     ]
    }
   ],
   "source": [
    "total = 30\n",
    "\n",
    "tt = [PrimeQ(2**n-1) for n in range(total)]\n",
    "for x in range(total):\n",
    "    if tt[x] == True:\n",
    "        print x"
   ]
  },
  {
   "cell_type": "code",
   "execution_count": 7,
   "metadata": {
    "collapsed": false
   },
   "outputs": [
    {
     "name": "stdout",
     "output_type": "stream",
     "text": [
      "2\n",
      "3\n",
      "5\n",
      "7\n",
      "13\n",
      "17\n",
      "19\n",
      "31\n"
     ]
    }
   ],
   "source": [
    "total = 40\n",
    "\n",
    "tt = [PrimeQ(2**n-1) for n in range(total)]\n",
    "for x in range(total):\n",
    "    if tt[x] == True:\n",
    "        print x"
   ]
  },
  {
   "cell_type": "code",
   "execution_count": 9,
   "metadata": {
    "collapsed": false
   },
   "outputs": [
    {
     "name": "stdout",
     "output_type": "stream",
     "text": [
      "2\n",
      "3\n",
      "5\n",
      "7\n",
      "13\n",
      "17\n",
      "19\n",
      "31\n"
     ]
    }
   ],
   "source": [
    "total = 50\n",
    "\n",
    "tt = [PrimeQ(2**n-1) for n in range(total)]\n",
    "for x in range(total):\n",
    "    if tt[x] == True:\n",
    "        print x"
   ]
  },
  {
   "cell_type": "code",
   "execution_count": 10,
   "metadata": {
    "collapsed": false
   },
   "outputs": [
    {
     "name": "stdout",
     "output_type": "stream",
     "text": [
      "10000 loops, best of 3: 43.8 µs per loop\n"
     ]
    }
   ],
   "source": [
    "%timeit [PrimeQ(2**n-1) for n in range(10)]"
   ]
  },
  {
   "cell_type": "code",
   "execution_count": 11,
   "metadata": {
    "collapsed": false
   },
   "outputs": [
    {
     "name": "stdout",
     "output_type": "stream",
     "text": [
      "1000 loops, best of 3: 387 µs per loop\n"
     ]
    }
   ],
   "source": [
    "%timeit [PrimeQ(2**n-1) for n in range(20)]"
   ]
  },
  {
   "cell_type": "code",
   "execution_count": 12,
   "metadata": {
    "collapsed": false
   },
   "outputs": [
    {
     "name": "stdout",
     "output_type": "stream",
     "text": [
      "100 loops, best of 3: 2.71 ms per loop\n"
     ]
    }
   ],
   "source": [
    "%timeit [PrimeQ(2**n-1) for n in range(30)]"
   ]
  },
  {
   "cell_type": "code",
   "execution_count": 13,
   "metadata": {
    "collapsed": false
   },
   "outputs": [
    {
     "name": "stdout",
     "output_type": "stream",
     "text": [
      "1 loop, best of 3: 228 ms per loop\n"
     ]
    }
   ],
   "source": [
    "%timeit [PrimeQ(2**n-1) for n in range(40)]"
   ]
  },
  {
   "cell_type": "code",
   "execution_count": 14,
   "metadata": {
    "collapsed": false
   },
   "outputs": [
    {
     "name": "stdout",
     "output_type": "stream",
     "text": [
      "1 loop, best of 3: 4.5 s per loop\n"
     ]
    }
   ],
   "source": [
    "%timeit [PrimeQ(2**n-1) for n in range(50)]"
   ]
  },
  {
   "cell_type": "code",
   "execution_count": null,
   "metadata": {
    "collapsed": true
   },
   "outputs": [],
   "source": []
  }
 ],
 "metadata": {
  "kernelspec": {
   "display_name": "Python 2",
   "language": "python",
   "name": "python2"
  },
  "language_info": {
   "codemirror_mode": {
    "name": "ipython",
    "version": 2
   },
   "file_extension": ".py",
   "mimetype": "text/x-python",
   "name": "python",
   "nbconvert_exporter": "python",
   "pygments_lexer": "ipython2",
   "version": "2.7.13"
  }
 },
 "nbformat": 4,
 "nbformat_minor": 2
}
